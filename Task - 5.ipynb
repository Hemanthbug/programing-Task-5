{
 "cells": [
  {
   "cell_type": "markdown",
   "id": "56106f7c",
   "metadata": {},
   "source": [
    "# Detect Floating Point Number"
   ]
  },
  {
   "cell_type": "code",
   "execution_count": 1,
   "id": "467f0670",
   "metadata": {},
   "outputs": [
    {
     "name": "stdout",
     "output_type": "stream",
     "text": [
      "4\n",
      "4.000\n",
      "True\n",
      "-1.00\n",
      "True\n",
      "+5.45\n",
      "True\n",
      "4.o0o\n",
      "False\n"
     ]
    }
   ],
   "source": [
    "import re\n",
    "\n",
    "n = int(input())\n",
    "\n",
    "for i in range(n):\n",
    "    s = input()\n",
    "    if re.match(r'^[+-]?[0-9]*\\.[0-9]+$', s):\n",
    "        print(True)\n",
    "    else:\n",
    "        print(False)"
   ]
  },
  {
   "cell_type": "markdown",
   "id": "98e88b6e",
   "metadata": {},
   "source": [
    "# Re.split"
   ]
  },
  {
   "cell_type": "code",
   "execution_count": 2,
   "id": "781b6cdf",
   "metadata": {},
   "outputs": [
    {
     "name": "stdout",
     "output_type": "stream",
     "text": [
      "100,000,000.000\n",
      "100\n",
      "000\n",
      "000\n",
      "000\n"
     ]
    }
   ],
   "source": [
    "regex_pattern = r\"\"\t# Do not delete 'r'.\n",
    "import re\n",
    "\n",
    "regex_pattern = r'[,.]'\n",
    "\n",
    "\n",
    "\n",
    "import re\n",
    "print(\"\\n\".join(re.split(regex_pattern, input())))"
   ]
  },
  {
   "cell_type": "markdown",
   "id": "b9305ffc",
   "metadata": {},
   "source": [
    "# Group(), Groups() & Groupdict()"
   ]
  },
  {
   "cell_type": "code",
   "execution_count": 3,
   "id": "06ce062b",
   "metadata": {},
   "outputs": [
    {
     "name": "stdout",
     "output_type": "stream",
     "text": [
      "..12345678910111213141516171820212223\n",
      "1\n"
     ]
    }
   ],
   "source": [
    "import re\n",
    "\n",
    "s = input().strip()\n",
    "\n",
    "match = re.search(r'([a-zA-Z0-9])\\1+', s)\n",
    "\n",
    "if match:\n",
    "    print(match.group(1))\n",
    "else:\n",
    "    print(-1)\n"
   ]
  },
  {
   "cell_type": "markdown",
   "id": "b3dba011",
   "metadata": {},
   "source": [
    "# Refindall() & Refinditer()"
   ]
  },
  {
   "cell_type": "code",
   "execution_count": 4,
   "id": "3d8717ca",
   "metadata": {},
   "outputs": [
    {
     "name": "stdout",
     "output_type": "stream",
     "text": [
      "rabcdeefgyYhFjkIoomnpOeorteeeeet\n",
      "ee\n",
      "Ioo\n",
      "Oeo\n",
      "eeeee\n"
     ]
    }
   ],
   "source": [
    "import re\n",
    "\n",
    "s = input().strip()\n",
    "\n",
    "matches = re.findall(r'(?<=[qwrtypsdfghjklzxcvbnm])([aeiouAEIOU]{2,})(?=[qwrtypsdfghjklzxcvbnm])', s)\n",
    "\n",
    "if matches:\n",
    "    for match in matches:\n",
    "        print(match)\n",
    "else:\n",
    "    print(-1)\n"
   ]
  },
  {
   "cell_type": "markdown",
   "id": "bdbdeb13",
   "metadata": {},
   "source": [
    "# start() & end()"
   ]
  },
  {
   "cell_type": "code",
   "execution_count": 5,
   "id": "630f1881",
   "metadata": {},
   "outputs": [
    {
     "name": "stdout",
     "output_type": "stream",
     "text": [
      "aaadaa\n",
      "aa\n",
      "(0, 1)\n",
      "(1, 2)\n",
      "(4, 5)\n"
     ]
    }
   ],
   "source": [
    "import re\n",
    "\n",
    "n = input()\n",
    "m = input()\n",
    "temp_set = set()\n",
    "for i in range(0,len(n)):\n",
    "    ans = re.search(rf\"{m}\",n) #To search and extract the start and end point of the regular expression\n",
    "    if ans:\n",
    "        temp_set.add((ans.start(),ans.end() - 1)) #Adding the (start, end) value to the set\n",
    "        n = (\"*\"* (i+1)) + n[i+1:] # After updating changing the ith value of input string to \"*\"\n",
    "\n",
    "temp_set = sorted(temp_set,key= lambda i :i[1]) #Sort the set \n",
    "if temp_set:\n",
    "    for i in temp_set:\n",
    "        print(i)\n",
    "else:\n",
    "    print(\"(-1, -1)\")"
   ]
  },
  {
   "cell_type": "markdown",
   "id": "6ca3a5fc",
   "metadata": {},
   "source": [
    "# Validating Roman Numerals"
   ]
  },
  {
   "cell_type": "code",
   "execution_count": 1,
   "id": "b84a275f",
   "metadata": {},
   "outputs": [
    {
     "name": "stdout",
     "output_type": "stream",
     "text": [
      "CDXXI\n",
      "True\n"
     ]
    }
   ],
   "source": [
    "regex_pattern = r\"\"\t# Do not delete 'r'.\n",
    "thousand = 'M{0,3}'\n",
    "hundred = '(C[MD]|D?C{0,3})'\n",
    "ten = '(X[CL]|L?X{0,3})'\n",
    "digit = '(I[VX]|V?I{0,3})'\n",
    "regex_pattern = r\"%s%s%s%s$\" % (thousand, hundred, ten, digit)    \n",
    "\n",
    "import re\n",
    "print(str(bool(re.match(regex_pattern, input()))))"
   ]
  },
  {
   "cell_type": "markdown",
   "id": "f7958ef3",
   "metadata": {},
   "source": [
    "# Validating phone number"
   ]
  },
  {
   "cell_type": "code",
   "execution_count": 2,
   "id": "40a194aa",
   "metadata": {},
   "outputs": [
    {
     "name": "stdout",
     "output_type": "stream",
     "text": [
      "2\n",
      "9587456281\n",
      "YES\n",
      "1252478965\n",
      "NO\n"
     ]
    }
   ],
   "source": [
    "import re\n",
    "\n",
    "# Get the number of inputs from the user\n",
    "n = int(input())\n",
    "\n",
    "# Define a regular expression to match a valid mobile number\n",
    "pattern = '^[789]\\d{9}$'\n",
    "\n",
    "# Check each input string and print \"YES\" or \"NO\" based on the validation result\n",
    "for i in range(n):\n",
    "    s = input()\n",
    "    if re.match(pattern, s):\n",
    "        print(\"YES\")\n",
    "    else:\n",
    "        print(\"NO\")"
   ]
  },
  {
   "cell_type": "markdown",
   "id": "097b6244",
   "metadata": {},
   "source": [
    "# Validating and Parasing Email Address"
   ]
  },
  {
   "cell_type": "code",
   "execution_count": 3,
   "id": "ab91dbc2",
   "metadata": {},
   "outputs": [
    {
     "name": "stdout",
     "output_type": "stream",
     "text": [
      "2\n",
      "DEXTER <dexter@hotmail.com>\n",
      "DEXTER <dexter@hotmail.com>\n",
      "VIRUS <virus!@variable.:p>\n"
     ]
    }
   ],
   "source": [
    "import re\n",
    "import email.utils\n",
    "\n",
    "# Get the number of email addresses from the user\n",
    "n = int(input())\n",
    "\n",
    "# Define a regular expression to match a valid email address\n",
    "pattern = '^[a-zA-Z][\\w\\.\\-]*@[a-zA-Z]+\\.[a-zA-Z]{1,3}$'\n",
    "\n",
    "# Check each name and email address pair and print the valid pairs\n",
    "for i in range(n):\n",
    "    s = input()\n",
    "    name, email_address = email.utils.parseaddr(s)\n",
    "    if re.match(pattern, email_address):\n",
    "        print(email.utils.formataddr((name, email_address)))\n"
   ]
  },
  {
   "cell_type": "code",
   "execution_count": 4,
   "id": "faea67ab",
   "metadata": {},
   "outputs": [
    {
     "name": "stdout",
     "output_type": "stream",
     "text": [
      "11\n",
      "#BED\n",
      "{\n",
      " color: #FfFdF8; background-color:#aef;\n",
      "#FfFdF8\n",
      "#aef\n",
      "font-size: 123px\n",
      " background: -webkit-linear-gradient(top, #f9f9f9, #fff);\n",
      "#f9f9f9\n",
      "#fff\n",
      "}\n",
      "#Cab\n",
      "{\n",
      "background-color: #ABC;\n",
      "#ABC\n",
      " border: 2px dashed #fff;\n",
      "#fff\n",
      "}\n"
     ]
    }
   ],
   "source": [
    "import re\n",
    "\n",
    "T = int(input())\n",
    "in_css = False\n",
    "for _ in range(T):\n",
    "    s = input()\n",
    "    if '{' in s:\n",
    "        in_css = True\n",
    "    elif '}' in s:\n",
    "        in_css = False\n",
    "    elif in_css:\n",
    "        for color in re.findall('#[0-9a-fA-F]{3,6}', s):\n",
    "            print(color)"
   ]
  },
  {
   "cell_type": "markdown",
   "id": "7887d0b2",
   "metadata": {},
   "source": [
    "# HTML Parser-part 1"
   ]
  },
  {
   "cell_type": "code",
   "execution_count": 5,
   "id": "13782fec",
   "metadata": {},
   "outputs": [
    {
     "name": "stdout",
     "output_type": "stream",
     "text": [
      "2\n",
      "<html><head><title>HTML Parser - I</title></head>\n",
      "<body data-modal-target class='1'><h1>HackerRank</h1><br /></body></html>\n",
      "Start : html\n",
      "Start : head\n",
      "Start : title\n",
      "End   : title\n",
      "End   : head\n",
      "Start : body\n",
      "-> data-modal-target > None\n",
      "-> class > 1\n",
      "Start : h1\n",
      "End   : h1\n",
      "Empty : br\n",
      "End   : body\n",
      "End   : html\n"
     ]
    }
   ],
   "source": [
    "from html.parser import HTMLParser\n",
    "\n",
    "class MyHTMLParser(HTMLParser):\n",
    "    def handle_starttag(self, tag, attrs):\n",
    "        print(\"Start :\", tag)\n",
    "        for attr in attrs:\n",
    "            print(f\"-> {attr[0]} > {attr[1]}\")\n",
    "            \n",
    "    def handle_endtag(self, tag):\n",
    "        print(\"End   :\", tag)\n",
    "        \n",
    "    def handle_startendtag(self, tag, attrs):\n",
    "        print(\"Empty :\", tag)\n",
    "        for attr in attrs:\n",
    "            print(f\"-> {attr[0]} > {attr[1]}\")\n",
    "        \n",
    "    def handle_comment(self, data):\n",
    "        pass\n",
    "\n",
    "n = int(input())\n",
    "parser = MyHTMLParser()\n",
    "html_string = ''\n",
    "for i in range(n):\n",
    "    html_string += input().rstrip()\n",
    "    html_string += '\\n'\n",
    "\n",
    "parser.feed(html_string)\n"
   ]
  },
  {
   "cell_type": "markdown",
   "id": "16e2d21a",
   "metadata": {},
   "source": [
    "# HTML Parser - Part 2"
   ]
  },
  {
   "cell_type": "code",
   "execution_count": 6,
   "id": "e6ffe9ae",
   "metadata": {},
   "outputs": [
    {
     "name": "stdout",
     "output_type": "stream",
     "text": [
      "4\n",
      "<!--[if IE 9]>IE9-specific content\n",
      "<![endif]-->\n",
      "<div> Welcome to HackerRank</div>\n",
      "<!--[if IE 9]>IE9-specific content<![endif]-->\n",
      ">>> Multi-line Comment\n",
      "[if IE 9]>IE9-specific content\n",
      "<![endif]\n",
      ">>> Data\n",
      " Welcome to HackerRank\n",
      ">>> Single-line Comment\n",
      "[if IE 9]>IE9-specific content<![endif]\n"
     ]
    }
   ],
   "source": [
    "from html.parser import HTMLParser\n",
    "\n",
    "class MyHTMLParser(HTMLParser):\n",
    "    def handle_comment(self, data):\n",
    "        data = str(data).split('\\n')\n",
    "        if len(data)>1:\n",
    "            print('>>> Multi-line Comment', *data, sep='\\n')\n",
    "        else:\n",
    "            print('>>> Single-line Comment', data[0], sep='\\n')            \n",
    "    def handle_data(self, data):\n",
    "        data = str(data).replace('\\n', '')\n",
    "        if len(data)>0:\n",
    "            print('>>> Data', data, sep='\\n')\n",
    "\n",
    "html = \"\"       \n",
    "for _ in range(int(input())):\n",
    "    html += input().rstrip()\n",
    "    html += '\\n'\n",
    "    \n",
    "parser = MyHTMLParser()\n",
    "parser.feed(html)\n",
    "parser.close()"
   ]
  },
  {
   "cell_type": "markdown",
   "id": "c89ea54e",
   "metadata": {},
   "source": [
    "# Detect HTML Tags, Attributes and Attrubute Values"
   ]
  },
  {
   "cell_type": "code",
   "execution_count": 7,
   "id": "c73d947f",
   "metadata": {},
   "outputs": [
    {
     "name": "stdout",
     "output_type": "stream",
     "text": [
      "9\n",
      "<head>\n",
      "<title>HTML</title>\n",
      "</head>\n",
      "<object type=\"application/x-flash\"\n",
      "data=\"your-file.swf\"\n",
      "width=\"0\" height=\"0\">\n",
      "<!-- <param name=\"movie\" value=\"your-file.swf\" />\n",
      "-->\n",
      " <param name=\"quality\" value=\"high\"/>\n",
      "head\n",
      "title\n",
      "object\n",
      "-> type > application/x-flash\n",
      "-> data > your-file.swf\n",
      "-> width > 0\n",
      "-> height > 0\n",
      "param\n",
      "-> name > quality\n",
      "-> value > high\n"
     ]
    }
   ],
   "source": [
    "from html.parser import HTMLParser\n",
    "\n",
    "class CustomHTMLParser(HTMLParser):\n",
    "    \n",
    "    def custom_print_attrs(self, attrs):\n",
    "        if attrs:\n",
    "            for attr in attrs:\n",
    "                print('->', attr[0], '>', attr[1])\n",
    "    \n",
    "    def handle_starttag(self, tag, attrs):\n",
    "        print(tag)\n",
    "        self.custom_print_attrs(attrs)\n",
    "\n",
    "    def handle_startendtag(self, tag, attrs):\n",
    "        print(tag)\n",
    "        self.custom_print_attrs(attrs)\n",
    "\n",
    "html_parser = CustomHTMLParser()\n",
    "pages = [input() for i in range(int(input()))]\n",
    "\n",
    "for page in pages:\n",
    "    html_parser.feed(page)"
   ]
  },
  {
   "cell_type": "markdown",
   "id": "23cc79b1",
   "metadata": {},
   "source": [
    "# Validating UID"
   ]
  },
  {
   "cell_type": "code",
   "execution_count": 8,
   "id": "3149e8e7",
   "metadata": {},
   "outputs": [
    {
     "name": "stdout",
     "output_type": "stream",
     "text": [
      "2\n",
      "B1CD102354\n",
      "Invalid\n",
      "B1CDEF2354\n",
      "Valid\n"
     ]
    }
   ],
   "source": [
    "import re\n",
    "\n",
    "def is_valid_uid(uid):\n",
    "    if len(uid) != 10:\n",
    "        return False\n",
    "    if not bool(re.search(r'[A-Z]{2,}', uid)):\n",
    "        return False\n",
    "    if not bool(re.search(r'\\d{3,}', uid)):\n",
    "        return False\n",
    "    if not bool(re.match(r'^[a-zA-Z0-9]{10}$', uid)):\n",
    "        return False\n",
    "    if len(set(uid)) != len(uid):\n",
    "        return False\n",
    "    return True\n",
    "\n",
    "t = int(input())\n",
    "for _ in range(t):\n",
    "    uid = input()\n",
    "    if is_valid_uid(uid):\n",
    "        print(\"Valid\")\n",
    "    else:\n",
    "        print(\"Invalid\")\n"
   ]
  },
  {
   "cell_type": "markdown",
   "id": "34a7e758",
   "metadata": {},
   "source": [
    "# Validating Credit Card Numbers"
   ]
  },
  {
   "cell_type": "code",
   "execution_count": 9,
   "id": "3213cb26",
   "metadata": {},
   "outputs": [
    {
     "name": "stdout",
     "output_type": "stream",
     "text": [
      "6\n",
      "4123456789123456\n",
      "Valid\n",
      "5123-4567-8912-3456\n",
      "Valid\n",
      "61234-567-8912-3456\n",
      "Invalid\n",
      "4123356789123456\n",
      "Valid\n",
      "5133-3367-8912-3456\n",
      "Invalid\n",
      "5123 - 3567 - 8912 - 3456\n",
      "Invalid\n"
     ]
    }
   ],
   "source": [
    "import re\n",
    "\n",
    "for i in range(int(input())):\n",
    "    \n",
    "    text = input()\n",
    "    pattern = re.compile(r\"^([456][\\d+]{3})-([\\d+]{4})-([\\d+]{4})-([\\d+]{4})$|^([456][\\d+]{15})$\")\n",
    "\n",
    "    if pattern.match(text):\n",
    "        text = ''.join([i for i in text if i != '-'])\n",
    "        if all([False if i*4 in text  else True for i in set(text)]):\n",
    "            print(\"Valid\")\n",
    "        else:\n",
    "            print(\"Invalid\")\n",
    "    else:\n",
    "        print(\"Invalid\")    \n",
    "    "
   ]
  },
  {
   "cell_type": "markdown",
   "id": "c2c2e9c4",
   "metadata": {},
   "source": [
    "# Validating Postal Codes"
   ]
  },
  {
   "cell_type": "code",
   "execution_count": 10,
   "id": "0bc4681d",
   "metadata": {},
   "outputs": [
    {
     "name": "stdout",
     "output_type": "stream",
     "text": [
      "110000\n",
      "False\n"
     ]
    }
   ],
   "source": [
    "regex_integer_in_range = r\"_________\"\t# Do not delete 'r'.\n",
    "regex_alternating_repetitive_digit_pair = r\"_________\"\t# Do not delete 'r'.\n",
    "\n",
    "\n",
    "import re\n",
    "P = input()\n",
    "\n",
    "print (bool(re.match(regex_integer_in_range, P)) \n",
    "and len(re.findall(regex_alternating_repetitive_digit_pair, P)) < 2)"
   ]
  },
  {
   "cell_type": "code",
   "execution_count": null,
   "id": "668594ea",
   "metadata": {},
   "outputs": [],
   "source": []
  }
 ],
 "metadata": {
  "kernelspec": {
   "display_name": "Python 3 (ipykernel)",
   "language": "python",
   "name": "python3"
  },
  "language_info": {
   "codemirror_mode": {
    "name": "ipython",
    "version": 3
   },
   "file_extension": ".py",
   "mimetype": "text/x-python",
   "name": "python",
   "nbconvert_exporter": "python",
   "pygments_lexer": "ipython3",
   "version": "3.9.12"
  }
 },
 "nbformat": 4,
 "nbformat_minor": 5
}
